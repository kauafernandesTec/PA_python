{
  "nbformat": 4,
  "nbformat_minor": 0,
  "metadata": {
    "colab": {
      "provenance": [],
      "authorship_tag": "ABX9TyN8v7Xf99gORKduEvli1nBA",
      "include_colab_link": true
    },
    "kernelspec": {
      "name": "python3",
      "display_name": "Python 3"
    },
    "language_info": {
      "name": "python"
    }
  },
  "cells": [
    {
      "cell_type": "markdown",
      "metadata": {
        "id": "view-in-github",
        "colab_type": "text"
      },
      "source": [
        "<a href=\"https://colab.research.google.com/github/kauafernandesTec/PA_python/blob/main/Aula_PA_1C/Atividade_La%C3%A7os.ipynb\" target=\"_parent\"><img src=\"https://colab.research.google.com/assets/colab-badge.svg\" alt=\"Open In Colab\"/></a>"
      ]
    },
    {
      "cell_type": "code",
      "source": [
        "#1\n",
        "for i in range(1, 31):\n",
        "    if i % 2 != 0:\n",
        "        print(i)"
      ],
      "metadata": {
        "id": "3WdYjFThsB-2"
      },
      "execution_count": null,
      "outputs": []
    },
    {
      "cell_type": "code",
      "source": [
        "#2\n",
        "soma_positivos = 0\n",
        "qtd_negativos = 0\n",
        "\n",
        "for i in range(20):\n",
        "    num = int(input(f\"Digite o {i+1}º número: \"))\n",
        "    if num > 0:\n",
        "        soma_positivos += num\n",
        "    elif num < 0:\n",
        "        qtd_negativos += 1\n",
        "\n",
        "print(\"Soma dos positivos:\", soma_positivos)\n",
        "print(\"Quantidade de negativos:\", qtd_negativos)"
      ],
      "metadata": {
        "id": "LVl_LIJysEhn"
      },
      "execution_count": null,
      "outputs": []
    },
    {
      "cell_type": "code",
      "source": [
        "#3\n",
        "inicio = int(input(\"Digite o número inicial: \"))\n",
        "fim = int(input(\"Digite o número final: \"))\n",
        "\n",
        "for i in range(inicio, fim + 1):\n",
        "    print(i)\n"
      ],
      "metadata": {
        "id": "hGp59PWosH7O"
      },
      "execution_count": null,
      "outputs": []
    },
    {
      "cell_type": "code",
      "source": [
        "#4\n",
        "soma = 0\n",
        "for i in range(1, 11):\n",
        "    soma += i\n",
        "print(\"A soma de 1 a 10 é:\", soma)\n"
      ],
      "metadata": {
        "id": "e29VedvrsJ7c"
      },
      "execution_count": null,
      "outputs": []
    },
    {
      "cell_type": "code",
      "source": [
        "#5\n",
        "x = int(input(\"Digite um número: \"))\n",
        "\n",
        "while x != 0:\n",
        "    x = int(input(\"Digite um número: \"))\n",
        "\n",
        "print(\"Igual a Zero\")\n"
      ],
      "metadata": {
        "id": "el_70i-dsQui"
      },
      "execution_count": null,
      "outputs": []
    },
    {
      "cell_type": "code",
      "source": [
        "#6\n",
        "soma = 0\n",
        "num = int(input(\"Digite um número (0 para sair): \"))\n",
        "\n",
        "while num != 0:\n",
        "    soma += num\n",
        "    num = int(input(\"Digite um número (0 para sair): \"))\n",
        "\n",
        "print(\"A soma dos números digitados é:\", soma)\n"
      ],
      "metadata": {
        "id": "CbDil0rVsUUj"
      },
      "execution_count": null,
      "outputs": []
    },
    {
      "cell_type": "code",
      "source": [
        "#7\n",
        "opcao = 0\n",
        "\n",
        "while opcao != 3:\n",
        "    print(\"\\nMenu de opções:\")\n",
        "    print(\"1 - Olá\")\n",
        "    print(\"2 - Exibir uma mensagem\")\n",
        "    print(\"3 - Sair\")\n",
        "\n",
        "    opcao = int(input(\"Escolha uma opção: \"))\n",
        "\n",
        "    if opcao == 1:\n",
        "        print(\"Você escolheu Olá!\")\n",
        "    elif opcao == 2:\n",
        "        print(\"Você escolheu a mensagem!\")\n",
        "    elif opcao == 3:\n",
        "        print(\"Saindo...\")\n",
        "    else:\n",
        "        print(\"Opção inválida, tente novamente!\")\n"
      ],
      "metadata": {
        "id": "HnydB3V7sU2n"
      },
      "execution_count": null,
      "outputs": []
    },
    {
      "cell_type": "code",
      "source": [
        "#8\n",
        "n = int(input(\"Digite a quantidade de termos: \"))\n",
        "s = 0\n",
        "denominador = 1\n",
        "\n",
        "for i in range(1, n + 1):\n",
        "    termo = i / denominador\n",
        "    print(f\"{i}/{denominador}\", end=\"  \")\n",
        "    s += termo\n",
        "    denominador += 2  # próximo ímpar\n",
        "\n",
        "print(\"\\nSoma da série =\", s)\n"
      ],
      "metadata": {
        "id": "_hHmWEMdsWeO"
      },
      "execution_count": null,
      "outputs": []
    }
  ]
}