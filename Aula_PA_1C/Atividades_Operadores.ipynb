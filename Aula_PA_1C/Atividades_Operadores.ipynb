{
  "nbformat": 4,
  "nbformat_minor": 0,
  "metadata": {
    "colab": {
      "provenance": [],
      "authorship_tag": "ABX9TyMea84UGOSQ0V3xlYxNoTrn",
      "include_colab_link": true
    },
    "kernelspec": {
      "name": "python3",
      "display_name": "Python 3"
    },
    "language_info": {
      "name": "python"
    }
  },
  "cells": [
    {
      "cell_type": "markdown",
      "metadata": {
        "id": "view-in-github",
        "colab_type": "text"
      },
      "source": [
        "<a href=\"https://colab.research.google.com/github/kauafernandesTec/PA_python/blob/main/Aula_PA_1C/Atividades_Operadores.ipynb\" target=\"_parent\"><img src=\"https://colab.research.google.com/assets/colab-badge.svg\" alt=\"Open In Colab\"/></a>"
      ]
    },
    {
      "cell_type": "code",
      "execution_count": 1,
      "metadata": {
        "colab": {
          "base_uri": "https://localhost:8080/"
        },
        "id": "bSS__d_DqdWw",
        "outputId": "b3c35e58-9803-4a25-84aa-4935fc070c89"
      },
      "outputs": [
        {
          "output_type": "stream",
          "name": "stdout",
          "text": [
            "Digite um numero para ver se ele é impar ou par4\n",
            "Esse número é par?  True ,o número digitado foi:  4\n",
            "Esse número é impar?  False ,o número digitado foi:  4\n"
          ]
        }
      ],
      "source": [
        "#entrada\n",
        "valor = int(input(\"Digite um numero para ver se ele é impar ou par:\" ))\n",
        "\n",
        "#processamento\n",
        "par = (valor%2 == 0)\n",
        "impar = (valor%2 == 1)\n",
        "\n",
        "print(\"Esse número é par? \", par, \",o número digitado foi: \", valor)\n",
        "print(\"Esse número é impar? \", impar, \",o número digitado foi: \", valor)"
      ]
    },
    {
      "cell_type": "code",
      "source": [
        "#entrada\n",
        "l1 = int(input(\"Digite o valor do primeiro lado: \"))\n",
        "l2 = int(input(\"Digite o valor do segundo lado: \"))\n",
        "l3 = int(input(\"Digite o valor do terceiro lado: \"))\n",
        "\n",
        "#verificar triângulo\n",
        "triângulo = (l1 + l2 > l3) and (l1 + l3 > l2) and (l2 + l3 > l1)\n",
        "\n",
        "#definir tipo\n",
        "equilatero = triângulo and (l1 == l2 == l3)\n",
        "escaleno = triângulo and (l1 != l2 and l1 != l3 and l2 != l3)\n",
        "isosceles = triângulo and not equilatero and not escaleno\n",
        "\n",
        "#saída\n",
        "print(\"Triângulo:\", triângulo)\n",
        "print(\"Equilátero:\", equilatero)\n",
        "print(\"Escaleno:\", escaleno)\n",
        "print(\"Isósceles:\", isosceles)\n"
      ],
      "metadata": {
        "colab": {
          "base_uri": "https://localhost:8080/"
        },
        "id": "vabmueVqtzRC",
        "outputId": "a4a71561-cf2d-4694-e924-599c0efced53"
      },
      "execution_count": 6,
      "outputs": [
        {
          "output_type": "stream",
          "name": "stdout",
          "text": [
            "Digite o valor do primeiro lado: 10\n",
            "Digite o valor do segundo lado: 10\n",
            "Digite o valor do terceiro lado: 10\n",
            "Triângulo: True\n",
            "Equilátero: True\n",
            "Escaleno: False\n",
            "Isósceles: False\n"
          ]
        }
      ]
    },
    {
      "cell_type": "code",
      "source": [
        "#entrada\n",
        "peso = float(input(\"Informe seu peso (em kg): \"))\n",
        "altura = float(input(\"Informe sua altura (em metro): \"))\n",
        "\n",
        "#processamento IMC\n",
        "\n",
        "imc = (peso/altura**2)\n",
        "print(imc)\n",
        "\n",
        "adp = (imc<18.5)\n",
        "print(adp)\n",
        "\n",
        "pn = (imc>= 18.5 and imc<=24.9)\n",
        "print(pn)\n",
        "\n",
        "sp = (imc >= 25 and imc <= 29.9)\n",
        "print(sp)\n",
        "\n",
        "ob1 = (imc >= 30 and imc <= 34.9)\n",
        "print(ob1)\n",
        "\n",
        "ob2 = (imc >= 35 and imc <= 39.9)\n",
        "print(ob2)\n",
        "\n",
        "ob3 = (imc >= 40)\n",
        "print(ob3)\n",
        "\n",
        "#saida\n",
        "print(\"o seu imc é\", imc)\n",
        "print(\"o seu adp é\", adp)\n",
        "print(\"o seu pn é\", pn)\n",
        "print(\"o seu sp é\", sp)\n",
        "print(\"o seu ob1 é\", ob1)\n",
        "print(\"o seu ob2 é\", ob2)\n",
        "print(\"o seu ob3 é\", ob3)"
      ],
      "metadata": {
        "colab": {
          "base_uri": "https://localhost:8080/"
        },
        "id": "F30YQ0BnyLIQ",
        "outputId": "12ead1c4-08db-451b-92fb-878f2d271423"
      },
      "execution_count": 22,
      "outputs": [
        {
          "output_type": "stream",
          "name": "stdout",
          "text": [
            "Informe seu peso (em kg): 50\n",
            "Informe sua altura (em metro): 1.50\n",
            "22.22222222222222\n",
            "False\n",
            "True\n",
            "False\n",
            "False\n",
            "False\n",
            "False\n",
            "o seu imc é 22.22222222222222\n",
            "o seu adp é False\n",
            "o seu pn é True\n",
            "o seu sp é False\n",
            "o seu ob1 é False\n",
            "o seu ob2 é False\n",
            "o seu ob3 é False\n"
          ]
        }
      ]
    },
    {
      "cell_type": "code",
      "source": [
        "#entrada\n",
        "altura = float(input(\"digite sua altura (em cm):\"))\n",
        "idade = int(input(\"sua idade é:\"))\n",
        "\n",
        "#processamento\n",
        "pode = altura >= 1.75 and idade >= 18\n",
        "\n",
        "#saida\n",
        "print(\"pode\",pode)"
      ],
      "metadata": {
        "colab": {
          "base_uri": "https://localhost:8080/"
        },
        "id": "oTuDlQraC08q",
        "outputId": "0732248a-55ac-444e-8522-ca98c398e52c"
      },
      "execution_count": 25,
      "outputs": [
        {
          "output_type": "stream",
          "name": "stdout",
          "text": [
            "digite sua altura (em cm):150\n",
            "sua idade é:10\n",
            "pode False\n"
          ]
        }
      ]
    }
  ]
}