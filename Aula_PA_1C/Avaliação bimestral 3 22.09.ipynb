{
 "cells": [
  {
   "cell_type": "markdown",
   "metadata": {
    "id": "XpJAZxJGnsjo"
   },
   "source": [
    "Coloque seu nome aqui: Kauã Fernandes Carvalho"
   ]
  },
  {
   "cell_type": "markdown",
   "metadata": {
    "id": "psR_IyuqtxJc"
   },
   "source": [
    "**Atividade Avaliativa **\n",
    "\n",
    "Enunciado:\n",
    "\n",
    "Crie um programa em Python para avaliar uma competição de bandas de música. O programa deve:\n",
    "\n",
    "Perguntar a quantidade de bandas participantes (mínimo 3).\n",
    "\n",
    "Perguntar o nome de cada banda.\n",
    "\n",
    "Para cada banda, receber as notas de 5 jurados (valores de 0 a 10).\n",
    "\n",
    "Calcular a média das notas de cada banda e armazenar o resultado em um dicionário, onde a chave será o nome da banda e o valor será a média das notas.\n",
    "\n",
    "Ao final, mostrar:\n",
    "\n",
    "A média de cada banda.\n",
    "\n",
    "O nome da banda vencedora (a que tiver maior média)."
   ]
  },
  {
   "cell_type": "code",
   "execution_count": 20,
   "metadata": {
    "id": "3v1htaJlrcvG",
    "scrolled": true
   },
   "outputs": [
    {
     "name": "stdout",
     "output_type": "stream",
     "text": [
      "Número de bandas (mínimo 3): 3\n",
      "Nome da banda: abutres\n",
      "Nota jurado 1: 5\n",
      "Nota jurado 2: 7\n",
      "Nota jurado 3: 4\n",
      "Nota jurado 4: 6\n",
      "Nota jurado 5: 5\n",
      "Nome da banda: galegos\n",
      "Nota jurado 1: 4\n",
      "Nota jurado 2: 3\n",
      "Nota jurado 3: 9\n",
      "Nota jurado 4: 5\n",
      "Nota jurado 5: 4\n",
      "Nome da banda: pikas\n",
      "Nota jurado 1: 1\n",
      "Nota jurado 2: 8\n",
      "Nota jurado 3: 6\n",
      "Nota jurado 4: 4\n",
      "Nota jurado 5: 5\n",
      "abutres média: 5.4\n",
      "galegos média: 5.0\n",
      "pikas média: 4.8\n",
      "Vencedora: abutres\n"
     ]
    }
   ],
   "source": [
    "#Ínicio\n",
    "num_bandas = int(input(\"Número de bandas (mínimo 3): \"))\n",
    "while num_bandas < 3:\n",
    "    num_bandas = int(input(\"Tente novamente (mínimo 3): \"))\n",
    "\n",
    "#Dicionário\n",
    "bandas = {}\n",
    "\n",
    "#Processamento\n",
    "for i in range(num_bandas):\n",
    "    nome = input(\"Nome da banda: \")\n",
    "    soma = 0\n",
    "    for j in range(5): #j é uma variavel de repetição para nota dos jurados\n",
    "        nota = float(input(f\"Nota jurado {j+1}: \"))\n",
    "        soma += nota\n",
    "    media = soma / 5\n",
    "    bandas[nome] = media\n",
    "\n",
    "for banda in bandas:\n",
    "    print(banda, \"média:\", bandas[banda])\n",
    "\n",
    "maior = 0\n",
    "vencedora = \"\"\n",
    "for banda in bandas:\n",
    "    if bandas[banda] > maior:\n",
    "        maior = bandas[banda]\n",
    "        vencedora = banda\n",
    "        \n",
    "#Saída\n",
    "print(\"Vencedora:\", vencedora)\n"
   ]
  },
  {
   "cell_type": "markdown",
   "metadata": {
    "id": "fRV1N-Q4G7BK"
   },
   "source": [
    "Enunciado:\n",
    "\n",
    "Crie um programa que conte quantas vezes cada palavra aparece em uma frase.\n",
    "\n",
    "Pedir ao usuário para digitar uma frase\n",
    "\n",
    "Imprimir a palavra e quantas vezes ela aparece"
   ]
  },
  {
   "cell_type": "code",
   "execution_count": null,
   "metadata": {
    "id": "HwK3-mVQHv8j"
   },
   "outputs": [],
   "source": [
    "#Entrada\n",
    "frase = input(\"Digite uma frase: \")\n",
    "\n",
    "palavras = frase.lower().split()\n",
    "\n",
    "#Dicionário\n",
    "contagem = {}\n",
    "\n",
    "#Processamento\n",
    "for palavra in palavras:\n",
    "    if palavra not in contagem:\n",
    "        contagem[palavra] = 0\n",
    "    contagem[palavra] = contagem[palavra] + 1\n",
    "\n",
    "#Saída\n",
    "for palavra in contagem:\n",
    "    print(palavra, \"aparece\", contagem[palavra], \"vez\")"
   ]
  },
  {
   "cell_type": "markdown",
   "metadata": {
    "id": "BKrOSqrOI2T5"
   },
   "source": [
    "Enunciado:\n",
    "\n",
    "Crie um programa em python que imprima números pares\n",
    "\n",
    "Pedir o usuário para digitar uma lista com mínimo 10 números\n",
    "\n",
    "Criar uma nova somente com numeros pares\n",
    "\n",
    "Imprimir números pares\n",
    "\n"
   ]
  },
  {
   "cell_type": "code",
   "execution_count": 45,
   "metadata": {},
   "outputs": [
    {
     "name": "stdout",
     "output_type": "stream",
     "text": [
      "Digite um número: 1\n",
      "1 é impar\n",
      "Digite um número: 2\n",
      "2 é par\n",
      "Digite um número: 3\n",
      "3 é impar\n",
      "Digite um número: 4\n",
      "4 é par\n",
      "Digite um número: 5\n",
      "5 é impar\n",
      "Digite um número: 6\n",
      "6 é par\n",
      "Digite um número: 7\n",
      "7 é impar\n",
      "Digite um número: 8\n",
      "8 é par\n",
      "Digite um número: 9\n",
      "9 é impar\n",
      "Digite um número: 10\n",
      "10 é par\n"
     ]
    }
   ],
   "source": [
    "#Processamento\n",
    "for _ in range(10):\n",
    "    num = int(input(\"Digite um número: \"))\n",
    "\n",
    "#Saída\n",
    "    if num % 2 == 0:\n",
    "        print(f\"{num} é par\")\n",
    "    else:\n",
    "        print(f\"{num} é impar\")\n"
   ]
  },
  {
   "cell_type": "code",
   "execution_count": null,
   "metadata": {},
   "outputs": [],
   "source": []
  }
 ],
 "metadata": {
  "colab": {
   "authorship_tag": "ABX9TyMPfa4id0nMFHSWqcbBwSar",
   "provenance": [
    {
     "file_id": "1oEsagsr0AUsUTO9iGnea3JAW6NiCwqeB",
     "timestamp": 1758547990346
    },
    {
     "file_id": "1LADCxzYvBqiYFcjSgL_Z5bblVMBbsfJg",
     "timestamp": 1757516692807
    }
   ]
  },
  "kernelspec": {
   "display_name": "Python 3 (ipykernel)",
   "language": "python",
   "name": "python3"
  },
  "language_info": {
   "codemirror_mode": {
    "name": "ipython",
    "version": 3
   },
   "file_extension": ".py",
   "mimetype": "text/x-python",
   "name": "python",
   "nbconvert_exporter": "python",
   "pygments_lexer": "ipython3",
   "version": "3.10.7"
  }
 },
 "nbformat": 4,
 "nbformat_minor": 1
}
