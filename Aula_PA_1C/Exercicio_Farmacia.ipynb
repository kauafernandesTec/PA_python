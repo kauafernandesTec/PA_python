{
  "nbformat": 4,
  "nbformat_minor": 0,
  "metadata": {
    "colab": {
      "provenance": [],
      "authorship_tag": "ABX9TyNZ3gi9qk1EJhTAw/yhcgko",
      "include_colab_link": true
    },
    "kernelspec": {
      "name": "python3",
      "display_name": "Python 3"
    },
    "language_info": {
      "name": "python"
    }
  },
  "cells": [
    {
      "cell_type": "markdown",
      "metadata": {
        "id": "view-in-github",
        "colab_type": "text"
      },
      "source": [
        "<a href=\"https://colab.research.google.com/github/kauafernandesTec/PA_python/blob/main/Aula_PA_1C/Exercicio_Farmacia.ipynb\" target=\"_parent\"><img src=\"https://colab.research.google.com/assets/colab-badge.svg\" alt=\"Open In Colab\"/></a>"
      ]
    },
    {
      "cell_type": "code",
      "source": [
        "#Entrada\n",
        "valor_original = float(input(\"Informe o valor do Medicamento: \"))\n",
        "idade = int(input(\"Informe a Idade do Cliente: \"))\n",
        "\n",
        "#Desconto\n",
        "desconto = 0\n",
        "\n",
        "#Verificação de Desconto\n",
        "if idade < 12:\n",
        "  desconto = 0.15 * valor_original\n",
        "\n",
        "if idade >= 60 and idade <=75:\n",
        "  desconto = 0.20 * valor_original\n",
        "\n",
        "if idade > 75:\n",
        "  desconto = 0.25 * valor_original\n",
        "\n",
        "#Cálculo do Valor Final\n",
        "valor_final = valor_original - desconto\n",
        "\n",
        "#Saída\n",
        "print(\"Valor do Desconto: R$\", desconto)\n",
        "print(\"Valor Final a ser Pago: R$\", valor_final)"
      ],
      "metadata": {
        "colab": {
          "base_uri": "https://localhost:8080/"
        },
        "id": "2Zb1otk15R4b",
        "outputId": "8f01b3df-2ffa-4f45-87d9-a5983de62f31"
      },
      "execution_count": 1,
      "outputs": [
        {
          "output_type": "stream",
          "name": "stdout",
          "text": [
            "Informe o valor do Medicamento250\n",
            "Informe a Idade do Cliente65\n",
            "Valor do Desconto: R$ 50.0\n",
            "Valor Final a ser Pago: R$ 200.0\n"
          ]
        }
      ]
    },
    {
      "cell_type": "code",
      "execution_count": null,
      "metadata": {
        "id": "yfj2xWFS3Kkd"
      },
      "outputs": [],
      "source": []
    }
  ]
}