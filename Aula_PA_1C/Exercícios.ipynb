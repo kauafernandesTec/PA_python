{
  "nbformat": 4,
  "nbformat_minor": 0,
  "metadata": {
    "colab": {
      "provenance": [],
      "authorship_tag": "ABX9TyNVUd3jk5nNioywRN1HUur8",
      "include_colab_link": true
    },
    "kernelspec": {
      "name": "python3",
      "display_name": "Python 3"
    },
    "language_info": {
      "name": "python"
    }
  },
  "cells": [
    {
      "cell_type": "markdown",
      "metadata": {
        "id": "view-in-github",
        "colab_type": "text"
      },
      "source": [
        "<a href=\"https://colab.research.google.com/github/kauafernandesTec/PA_python/blob/main/Aula_PA_1C/Exerc%C3%ADcios.ipynb\" target=\"_parent\"><img src=\"https://colab.research.google.com/assets/colab-badge.svg\" alt=\"Open In Colab\"/></a>"
      ]
    },
    {
      "cell_type": "code",
      "execution_count": 4,
      "metadata": {
        "colab": {
          "base_uri": "https://localhost:8080/"
        },
        "id": "32GQWMz59_wy",
        "outputId": "9fd04e2d-730f-455c-e653-99d3201842fa"
      },
      "outputs": [
        {
          "output_type": "stream",
          "name": "stdout",
          "text": [
            "digite numero 1\n",
            "digite mais um numero 20\n",
            "a soma dos numeros é 21\n"
          ]
        }
      ],
      "source": [
        "#calculo\n",
        "\n",
        "##entrada\n",
        "num1 = int(input('digite numero '))\n",
        "num2 = int(input('digite mais um numero '))\n",
        "\n",
        "##processamento\n",
        "soma = num1 + num2\n",
        "\n",
        "##saida\n",
        "print ('a soma dos numeros é', soma)"
      ]
    },
    {
      "cell_type": "code",
      "source": [
        "#calculo\n",
        "\n",
        "##entrada\n",
        "num1 = int(input('digite numero '))\n",
        "num2 = int(input('digite mais um numero '))\n",
        "\n",
        "##processamento\n",
        "soma = num1 - num2\n",
        "\n",
        "##saida\n",
        "print ('a soma dos numeros é', soma)"
      ],
      "metadata": {
        "colab": {
          "base_uri": "https://localhost:8080/"
        },
        "id": "WvuGfxxcAkW9",
        "outputId": "519b81f7-6567-48cd-9bb6-3d5f4a03b865"
      },
      "execution_count": 6,
      "outputs": [
        {
          "output_type": "stream",
          "name": "stdout",
          "text": [
            "digite numero 1\n",
            "digite mais um numero 10\n",
            "a soma dos numeros é -9\n"
          ]
        }
      ]
    },
    {
      "cell_type": "code",
      "source": [
        "#calculo\n",
        "\n",
        "##entrada\n",
        "num1 = int(input('digite numero '))\n",
        "num2 = int(input('digite mais um numero '))\n",
        "\n",
        "##processamento\n",
        "soma = num1 * num2\n",
        "\n",
        "##saida\n",
        "print ('a soma dos numeros é', soma)"
      ],
      "metadata": {
        "colab": {
          "base_uri": "https://localhost:8080/"
        },
        "id": "3nV8zwkjBIJs",
        "outputId": "082ac077-5e5f-4c80-95fe-3e21fa1c6f2f"
      },
      "execution_count": 7,
      "outputs": [
        {
          "output_type": "stream",
          "name": "stdout",
          "text": [
            "digite numero 5\n",
            "digite mais um numero 5\n",
            "a soma dos numeros é 25\n"
          ]
        }
      ]
    },
    {
      "cell_type": "code",
      "source": [
        "#calculo\n",
        "\n",
        "##entrada\n",
        "num1 = int(input('digite numero '))\n",
        "num2 = int(input('digite mais um numero '))\n",
        "\n",
        "##processamento\n",
        "soma = num1 / num2\n",
        "\n",
        "##saida\n",
        "print ('a soma dos numeros é', soma)"
      ],
      "metadata": {
        "colab": {
          "base_uri": "https://localhost:8080/"
        },
        "id": "91axEwMUBUS4",
        "outputId": "cef38256-50dd-4f48-e6a3-ae541d1f2aa2"
      },
      "execution_count": 10,
      "outputs": [
        {
          "output_type": "stream",
          "name": "stdout",
          "text": [
            "digite numero 10\n",
            "digite mais um numero 2\n",
            "a soma dos numeros é 5.0\n"
          ]
        }
      ]
    }
  ]
}