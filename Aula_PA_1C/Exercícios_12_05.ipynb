{
  "nbformat": 4,
  "nbformat_minor": 0,
  "metadata": {
    "colab": {
      "provenance": [],
      "authorship_tag": "ABX9TyP96ez3N1JrVcDgAIdKizbf",
      "include_colab_link": true
    },
    "kernelspec": {
      "name": "python3",
      "display_name": "Python 3"
    },
    "language_info": {
      "name": "python"
    }
  },
  "cells": [
    {
      "cell_type": "markdown",
      "metadata": {
        "id": "view-in-github",
        "colab_type": "text"
      },
      "source": [
        "<a href=\"https://colab.research.google.com/github/kauafernandesTec/PA_python/blob/main/Aula_PA_1C/Exerc%C3%ADcios_12_05.ipynb\" target=\"_parent\"><img src=\"https://colab.research.google.com/assets/colab-badge.svg\" alt=\"Open In Colab\"/></a>"
      ]
    },
    {
      "cell_type": "code",
      "execution_count": null,
      "metadata": {
        "id": "TecklDOWKhpa"
      },
      "outputs": [],
      "source": [
        "##entrada\n",
        "ano=int(input(\"digite o ano: \"))\n",
        "#processamento\n",
        "if ano % 4 == 0 and ano % 100 != 0 or ano % 400 == 0:\n",
        "  print(\"o ano é bissexto\")\n",
        "else:\n",
        "  print(\"o ano não é bissexto\")"
      ]
    },
    {
      "cell_type": "code",
      "source": [
        "##entrada\n",
        "idade=int(input(\"digite sua idade: \"))\n",
        "#processamento\n",
        "if idade >= 18 and idade<=30:\n",
        "  print(\"pode participar do grupo da mocidade\")\n",
        "elif idade>=12 and idade<=17:\n",
        "  print(\"participa do grupo de adolescentes\")\n",
        "elif idade>=0 and idade<=11:\n",
        "  print(\"participa do grupo de crianças\")\n",
        "else:\n",
        "  print(\"participa do grupo de adultos\")"
      ],
      "metadata": {
        "id": "ovwoODpxK0Lp"
      },
      "execution_count": null,
      "outputs": []
    },
    {
      "cell_type": "code",
      "source": [
        "##entrada\n",
        "numero=int(input(\"digite um numero: \"))\n",
        "#processamento\n",
        "if numero>=10 and numero<=77:\n",
        "  print(\"faz parte da sequência \")\n",
        "else:\n",
        "  print(\"não faz parte da sequência \")"
      ],
      "metadata": {
        "id": "B_L0GkurK5rt"
      },
      "execution_count": null,
      "outputs": []
    },
    {
      "cell_type": "code",
      "source": [
        "##entrada\n",
        "numero=int(input(\"digite um numero: \"))\n",
        "#processamento\n",
        "if numero%2==0:\n",
        "  print(\"o numero é par\")\n",
        "else:\n",
        "  print(\"o numero é impar\")"
      ],
      "metadata": {
        "id": "u20j_zXMK-mB"
      },
      "execution_count": null,
      "outputs": []
    },
    {
      "cell_type": "code",
      "source": [
        "##entrada\n",
        "L1=int(input(\"digite o tres lado do triangulo, digite o lado  do l1 \"))\n",
        "L2=int(input(\"digite o lado do L2 \"))\n",
        "L3=int(input(\"digite o lado do L3 \"))\n",
        "##processamento\n",
        "if L1+L2>L3 and L1+L3>L2 and L2+L3>L1:\n",
        "  print(\"triangulo\")\n",
        "elif L1==L2==L3:\n",
        "  print(\"equilatero\")\n",
        "elif L1==L2 or L1==L3 or L2==L3:\n",
        "  print(\"isoceles\")\n",
        "else:\n",
        "  print(\"escaleno\")"
      ],
      "metadata": {
        "id": "4eezmDBoLDJD"
      },
      "execution_count": null,
      "outputs": []
    },
    {
      "cell_type": "code",
      "source": [
        "##entrada\n",
        "peso=float(input(\"digite o peso (em kg) \"))\n",
        "altura=float(input(\"digite a altura (em metro) \"))\n",
        "##processamento\n",
        "imc=peso/(altura**2)\n",
        "\n",
        "if peso/(altura**2)<18.5:\n",
        "  print(\"abaixo do peso\")\n",
        "elif peso/(altura**2)>=18.5 and peso/(altura**2)<=24.9:\n",
        "  print(\"peso normal\")\n",
        "elif peso/(altura**2)>=25 and peso/(altura**2)<=29.9:\n",
        "  print(\"sobre peso\")\n",
        "elif peso/(altura**2)>=30 and peso/(altura**2)<=34.9:\n",
        "  print(\"obesidade grau 1\")\n",
        "elif peso/(altura**2)>=35 and peso/(altura**2)<=39.9:\n",
        "  print(\"obesidade grau 2\")\n",
        "else:\n",
        "  print(\"obesidade grau 3\")"
      ],
      "metadata": {
        "id": "PIEDr2RjLGfI"
      },
      "execution_count": null,
      "outputs": []
    },
    {
      "cell_type": "code",
      "source": [
        "##entrada\n",
        "altura=float(input(\"digite a altura \"))\n",
        "idade=int(input(\"digite a idade \"))\n",
        "##processamento\n",
        "if altura>=1.75 and idade>=18:\n",
        "  print(\"pode competir\")\n",
        "else:\n",
        "  print(\"não pode competir\")"
      ],
      "metadata": {
        "id": "8PGZeTDzLKqn"
      },
      "execution_count": null,
      "outputs": []
    },
    {
      "cell_type": "code",
      "source": [
        "##entrada\n",
        "salario = float(input(\"digite o salario \"))\n",
        "emprestimo = float(input(\"digite o valor do emprestimo \"))\n",
        "parcelas = int(input(\"digite a quantidade de parcelas \"))\n",
        "##processamento\n",
        "salario*0.3\n",
        "emprestimo/parcelas\n",
        "if salario*0.3>=emprestimo/parcelas:\n",
        "  print(\"pode fazer o emprestimo\")\n",
        "else:\n",
        "  print(\"não pode fazer o emprestimo\")"
      ],
      "metadata": {
        "id": "RGVQSuESLOHY"
      },
      "execution_count": null,
      "outputs": []
    }
  ]
}