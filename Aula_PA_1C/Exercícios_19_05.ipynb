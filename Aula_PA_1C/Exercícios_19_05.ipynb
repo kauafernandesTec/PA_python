{
  "nbformat": 4,
  "nbformat_minor": 0,
  "metadata": {
    "colab": {
      "provenance": [],
      "authorship_tag": "ABX9TyPR7Yls4JGvDCqeugAetAeb",
      "include_colab_link": true
    },
    "kernelspec": {
      "name": "python3",
      "display_name": "Python 3"
    },
    "language_info": {
      "name": "python"
    }
  },
  "cells": [
    {
      "cell_type": "markdown",
      "metadata": {
        "id": "view-in-github",
        "colab_type": "text"
      },
      "source": [
        "<a href=\"https://colab.research.google.com/github/kauafernandesTec/PA_python/blob/main/Aula_PA_1C/Exerc%C3%ADcios_19_05.ipynb\" target=\"_parent\"><img src=\"https://colab.research.google.com/assets/colab-badge.svg\" alt=\"Open In Colab\"/></a>"
      ]
    },
    {
      "cell_type": "code",
      "execution_count": null,
      "metadata": {
        "id": "QdgrY2OyQRje"
      },
      "outputs": [],
      "source": [
        "##entrada\n",
        "idade1=int(input(\"digite a idade 1: \"))\n",
        "idade2=int(input(\"digite a idade 2: \"))\n",
        "\n",
        "##processamento\n",
        "idade1=(idade1 > idade2)\n",
        "print(idade1)\n",
        "\n",
        "idade2=(idade2 < idade1)\n",
        "print(idade2)\n",
        "\n",
        "##saida\n",
        "print(\"a idade1 será maior que a idade2 ?\", idade1)\n"
      ]
    },
    {
      "cell_type": "code",
      "source": [
        "##entrada\n",
        "idade=int(input(\"digite sua idade\"))\n",
        "senha=int(input(\"digite a senha\"))\n",
        "\n",
        "##processamento\n",
        "pode = idade>=18 and senha==1234\n",
        "\n",
        "\n",
        "##saída\n",
        "print(\"pode acessar sistema ?\", pode)"
      ],
      "metadata": {
        "id": "GW1ilxNRQS3U"
      },
      "execution_count": null,
      "outputs": []
    },
    {
      "cell_type": "code",
      "source": [
        "##entrada\n",
        "numero=int(input(\"digite o número\"))\n",
        "\n",
        "##processamento\n",
        "esta=numero<10 or numero>50\n",
        "\n",
        "##saída\n",
        "print(\"o numero nao está entre 10 e 50 ?\", esta)"
      ],
      "metadata": {
        "id": "2tBZeu7LQWZe"
      },
      "execution_count": null,
      "outputs": []
    },
    {
      "cell_type": "code",
      "source": [
        "##entrada\n",
        "preço=float(input(\"digite o preço \"))\n",
        "saldo=float(input(\"digite o saldo \"))\n",
        "digite=int(input(\"digite o cupom \"))\n",
        "\n",
        "##processamento\n",
        "pode= preço<=saldo\n",
        "print(pode)\n",
        "cupom=digite==1234 and preço>=saldo\n",
        "print(cupom)\n",
        "\n",
        "\n",
        "##saida\n",
        "print(\"pode comprar o produto com o saldo ?\", pode)\n",
        "print(\"pode comprar o produto com o cupom ?\", cupom)"
      ],
      "metadata": {
        "id": "QeCLYjojQaur"
      },
      "execution_count": null,
      "outputs": []
    },
    {
      "cell_type": "code",
      "source": [
        "##entrada\n",
        "numero=int(input(\" digite o numero\"))\n",
        "\n",
        "##processamento\n",
        "par=numero%2==0\n",
        "print(par)\n",
        "\n",
        "positivo=numero>0\n",
        "print(positivo)\n",
        "\n",
        "##saida\n",
        "print(\"o numero é par ?\", par)\n",
        "print(\"o numero é positivo ?\" , positivo)"
      ],
      "metadata": {
        "id": "t4eu3-yXQban"
      },
      "execution_count": null,
      "outputs": []
    },
    {
      "cell_type": "code",
      "source": [
        "##entrada\n",
        "idade=int(input(\"digite a idade\"))\n",
        "\n",
        "##processamento\n",
        "esta=idade>=13 and idade<=17\n",
        "\n",
        "##saida\n",
        "print(\"a pessoa tem entre 13 a 17 anos ?\", esta)"
      ],
      "metadata": {
        "id": "-ra-X2o8Qeee"
      },
      "execution_count": null,
      "outputs": []
    },
    {
      "cell_type": "code",
      "source": [
        "##entrada\n",
        "adm=int(input('digite 1 se voce é adm ? ' ))\n",
        "senha=int(input('digite a senha ' ))\n",
        "\n",
        "##processamento\n",
        "adm==1\n",
        "senha = senha==1234\n",
        "\n",
        "##saida\n",
        "print(\"pode acessar o sistema ?\", senha)"
      ],
      "metadata": {
        "id": "xWxfWNutQgiT"
      },
      "execution_count": null,
      "outputs": []
    },
    {
      "cell_type": "code",
      "source": [
        "##entrada\n",
        "nota=float(input(\"digite a nota \"))\n",
        "presente=int(input(\"digite 1 se esta presente \"))\n",
        "\n",
        "##processamento\n",
        "aprovado=nota>=6\n",
        "presente==1\n",
        "\n",
        "##saida\n",
        "print(\"o aluno foi aprovado ?\", aprovado)\n"
      ],
      "metadata": {
        "id": "bCTu1TAVQiQi"
      },
      "execution_count": null,
      "outputs": []
    },
    {
      "cell_type": "code",
      "source": [
        "##entrada\n",
        "velocidade=float(input(\"digite a sua velocidade \"))\n",
        "\n",
        "##processamento\n",
        "limite=80\n",
        "multa=velocidade>limite\n",
        "\n",
        "##saida\n",
        "print(\"voce foi multado ?\", multa)"
      ],
      "metadata": {
        "id": "nlHpI9TPQj22"
      },
      "execution_count": null,
      "outputs": []
    },
    {
      "cell_type": "code",
      "source": [
        "##entrada\n",
        "convite=int(input(\"digite 10 se voce tem o convite \"))\n",
        "idade=int(input(\"digite a sua idade \"))\n",
        "\n",
        "##processamento\n",
        "convite==10\n",
        "idade= idade>=18\n",
        "\n",
        "#saida\n",
        "print(\"pode entrar no evento ?\", idade)\n"
      ],
      "metadata": {
        "id": "us3G8rrIQuqy"
      },
      "execution_count": null,
      "outputs": []
    }
  ]
}