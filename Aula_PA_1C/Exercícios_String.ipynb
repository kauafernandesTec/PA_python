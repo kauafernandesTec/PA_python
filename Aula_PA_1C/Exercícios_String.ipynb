{
  "nbformat": 4,
  "nbformat_minor": 0,
  "metadata": {
    "colab": {
      "provenance": [],
      "authorship_tag": "ABX9TyPRzW9ir2DnZVcPimT7DReK",
      "include_colab_link": true
    },
    "kernelspec": {
      "name": "python3",
      "display_name": "Python 3"
    },
    "language_info": {
      "name": "python"
    }
  },
  "cells": [
    {
      "cell_type": "markdown",
      "metadata": {
        "id": "view-in-github",
        "colab_type": "text"
      },
      "source": [
        "<a href=\"https://colab.research.google.com/github/kauafernandesTec/PA_python/blob/main/Aula_PA_1C/Exerc%C3%ADcios_String.ipynb\" target=\"_parent\"><img src=\"https://colab.research.google.com/assets/colab-badge.svg\" alt=\"Open In Colab\"/></a>"
      ]
    },
    {
      "cell_type": "code",
      "execution_count": 2,
      "metadata": {
        "colab": {
          "base_uri": "https://localhost:8080/"
        },
        "id": "spXQXfdOZUV3",
        "outputId": "1d644ae8-4272-4ab8-bca2-6943dbe33439"
      },
      "outputs": [
        {
          "output_type": "stream",
          "name": "stdout",
          "text": [
            "11\n"
          ]
        }
      ],
      "source": [
        "# 1 - Use o método len para imprimir o comprimento da string.\n",
        "x = \"Hello World\"\n",
        "print(len(x))"
      ]
    },
    {
      "cell_type": "code",
      "source": [
        "# 2 - Obtenha o primeiro caractere da string txt.\n",
        "txt = \"Hello World\"\n",
        "x = txt[0]\n",
        "print(x)"
      ],
      "metadata": {
        "colab": {
          "base_uri": "https://localhost:8080/"
        },
        "id": "urGuW4WDg5UH",
        "outputId": "8cd988af-6046-4eda-e7ac-f91171c8ce98"
      },
      "execution_count": 3,
      "outputs": [
        {
          "output_type": "stream",
          "name": "stdout",
          "text": [
            "H\n"
          ]
        }
      ]
    },
    {
      "cell_type": "code",
      "source": [
        "# 3 - Obtenha os caracteres do índice 2 ao índice 4 ( llo).\n",
        "txt = \"Hello World\"\n",
        "x = txt[2:5]\n",
        "print(x)"
      ],
      "metadata": {
        "colab": {
          "base_uri": "https://localhost:8080/"
        },
        "id": "XIru3xBzhFM5",
        "outputId": "34507ed2-1071-4fad-e8af-146c02b14784"
      },
      "execution_count": 4,
      "outputs": [
        {
          "output_type": "stream",
          "name": "stdout",
          "text": [
            "llo\n"
          ]
        }
      ]
    },
    {
      "cell_type": "code",
      "source": [
        "# 4 -  Converta o valor de txt para maiúsculas.\n",
        "txt = \"Hello World\"\n",
        "txt = txt.upper()\n",
        "print(txt)"
      ],
      "metadata": {
        "colab": {
          "base_uri": "https://localhost:8080/"
        },
        "id": "qzTbYLqDhQ2D",
        "outputId": "612d6f08-4b81-4048-a630-3be2e3e6896a"
      },
      "execution_count": 6,
      "outputs": [
        {
          "output_type": "stream",
          "name": "stdout",
          "text": [
            "HELLO WORLD\n"
          ]
        }
      ]
    },
    {
      "cell_type": "code",
      "source": [
        "# 5 -  Conte quantas vezes aparece a palavra \"de\" na string abaixo\n",
        "txt = \"Eu gosto de vijar, tomar vinho, de estudar estudar programação, de estudar Pyhon\"\n",
        "x = txt.count(\"de\")\n",
        "print(x)"
      ],
      "metadata": {
        "colab": {
          "base_uri": "https://localhost:8080/"
        },
        "id": "7O9gCHTQhcvP",
        "outputId": "5bb2c3dd-1d17-4af8-d774-8796e7e8fa9a"
      },
      "execution_count": 7,
      "outputs": [
        {
          "output_type": "stream",
          "name": "stdout",
          "text": [
            "3\n"
          ]
        }
      ]
    },
    {
      "cell_type": "code",
      "source": [
        "# 6 - Separe a frase abaixo toda vez que encontrar um vírgula\n",
        "txt = \"Eu gosto de vijar, tomar vinho, de estudar estudar programação, de estudar Pyhon\"\n",
        "x = txt.split(\",\")\n",
        "print(x)"
      ],
      "metadata": {
        "colab": {
          "base_uri": "https://localhost:8080/"
        },
        "id": "4NqXpL1JhlVl",
        "outputId": "be2735fe-3175-44b0-9be8-b29677c7f531"
      },
      "execution_count": 8,
      "outputs": [
        {
          "output_type": "stream",
          "name": "stdout",
          "text": [
            "['Eu gosto de vijar', ' tomar vinho', ' de estudar estudar programação', ' de estudar Pyhon']\n"
          ]
        }
      ]
    },
    {
      "cell_type": "code",
      "source": [
        "# Solicita o nome completo do usuário\n",
        "nome = input(\"Digite seu nome completo: \")\n",
        "\n",
        "# 1. Nome em letras maiúsculas\n",
        "print(\"Maiúsculas:\", nome.upper())\n",
        "\n",
        "# 2. Nome em letras minúsculas\n",
        "print(\"Minúsculas:\", nome.lower())\n",
        "\n",
        "# 3. Quantas letras no total (sem considerar espaços)\n",
        "sem_espacos = nome.replace(\" \", \"\")\n",
        "print(\"Total de letras (sem espaços):\", len(sem_espacos))\n",
        "\n",
        "# 4. Quantas letras tem o primeiro nome\n",
        "primeiro_nome = nome.split()[0]\n",
        "print(\"Letras no primeiro nome:\", len(primeiro_nome))"
      ],
      "metadata": {
        "colab": {
          "base_uri": "https://localhost:8080/"
        },
        "id": "I60tbRLwjnXA",
        "outputId": "aa120ff3-b1af-42bb-9777-a91fca471444"
      },
      "execution_count": 13,
      "outputs": [
        {
          "output_type": "stream",
          "name": "stdout",
          "text": [
            "Digite seu nome completo: kaua fernandes carvalho\n",
            "Maiúsculas: KAUA FERNANDES CARVALHO\n",
            "Minúsculas: kaua fernandes carvalho\n",
            "Total de letras (sem espaços): 21\n",
            "Letras no primeiro nome: 4\n"
          ]
        }
      ]
    },
    {
      "cell_type": "code",
      "source": [
        "# Conte quantas vogais existem na string\n",
        "texto = \"exercício\"\n",
        "vogais = \"aeiouáéíóúãõâêîôûàèìòù\"\n",
        "\n",
        "quantidade = sum(1 for letra in texto.lower() if letra in vogais)\n",
        "\n",
        "print(\"Quantidade de vogais:\", quantidade)"
      ],
      "metadata": {
        "colab": {
          "base_uri": "https://localhost:8080/"
        },
        "id": "PAYjiMg-pYWx",
        "outputId": "21ec75b0-0e7f-471c-fa48-88d7076da91f"
      },
      "execution_count": 14,
      "outputs": [
        {
          "output_type": "stream",
          "name": "stdout",
          "text": [
            "Quantidade de vogais: 5\n"
          ]
        }
      ]
    }
  ]
}