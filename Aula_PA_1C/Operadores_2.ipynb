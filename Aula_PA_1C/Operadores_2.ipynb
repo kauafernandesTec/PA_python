{
  "nbformat": 4,
  "nbformat_minor": 0,
  "metadata": {
    "colab": {
      "provenance": [],
      "authorship_tag": "ABX9TyMtBkH5b706Bgz97KM0OxOW",
      "include_colab_link": true
    },
    "kernelspec": {
      "name": "python3",
      "display_name": "Python 3"
    },
    "language_info": {
      "name": "python"
    }
  },
  "cells": [
    {
      "cell_type": "markdown",
      "metadata": {
        "id": "view-in-github",
        "colab_type": "text"
      },
      "source": [
        "<a href=\"https://colab.research.google.com/github/kauafernandesTec/PA_python/blob/main/Aula_PA_1C/Operadores_2.ipynb\" target=\"_parent\"><img src=\"https://colab.research.google.com/assets/colab-badge.svg\" alt=\"Open In Colab\"/></a>"
      ]
    },
    {
      "cell_type": "code",
      "execution_count": null,
      "metadata": {
        "colab": {
          "base_uri": "https://localhost:8080/"
        },
        "id": "R98cm4Otyd2C",
        "outputId": "4fc01498-611d-4018-9447-543be8ddbf9d"
      },
      "outputs": [
        {
          "output_type": "stream",
          "name": "stdout",
          "text": [
            "Digite sua idade: 10\n",
            "Digite sua senha: 1234\n",
            "Acesso permitido? False\n"
          ]
        }
      ],
      "source": [
        "#entrada1\n",
        "idade = int(input(\"Digite sua idade: \"))\n",
        "senha = input(\"Digite sua senha: \")\n",
        "\n",
        "#processamento\n",
        "acesso = idade > 18 and senha == \"1234\"\n",
        "\n",
        "#saida\n",
        "print(\"Acesso permitido?\", acesso)"
      ]
    },
    {
      "cell_type": "code",
      "source": [
        "#entrada\n",
        "idade1 = int(input(\"Digite a primeira idade: \"))\n",
        "idade2 = int(input(\"Digite a segunda idade: \"))\n",
        "\n",
        "#processamento\n",
        "maior = idade1 > idade2\n",
        "\n",
        "#saída\n",
        "print(\"A primeira idade é maior que a segunda?\", maior)"
      ],
      "metadata": {
        "id": "V1Xtm-aOyts1",
        "outputId": "7793e257-ff9b-4a86-a318-6943a2861055",
        "colab": {
          "base_uri": "https://localhost:8080/"
        }
      },
      "execution_count": null,
      "outputs": [
        {
          "output_type": "stream",
          "name": "stdout",
          "text": [
            "Digite a primeira idade: 10\n",
            "Digite a segunda idade: 20\n",
            "A primeira idade é maior que a segunda? False\n"
          ]
        }
      ]
    },
    {
      "cell_type": "code",
      "source": [
        "#entrada\n",
        "numero = int(input(\"Digite um número: \"))\n",
        "\n",
        "#processamento\n",
        "fora = not (10 <= numero <= 50)\n",
        "\n",
        "#saída\n",
        "print(\"Número fora do intervalo 10 a 50?\", fora)\n"
      ],
      "metadata": {
        "colab": {
          "base_uri": "https://localhost:8080/"
        },
        "id": "mc4GEJhO3_6b",
        "outputId": "25d7ba10-776b-4317-9f4d-16dc99e13c70"
      },
      "execution_count": 8,
      "outputs": [
        {
          "output_type": "stream",
          "name": "stdout",
          "text": [
            "Digite um número: 10\n",
            "Número fora do intervalo 10 a 50? False\n"
          ]
        }
      ]
    },
    {
      "cell_type": "code",
      "source": [
        "#entrada\n",
        "saldo = float(input(\"Digite seu saldo:\" ))\n",
        "valor = float(input(\"Digite o valor da compra: \"))\n",
        "cupom = input(\"Tem cupom de desconto ativo? (s/n): \") == \"s\"\n",
        "\n",
        "#processamento\n",
        "compra = saldo >= valor or cupom\n",
        "\n",
        "#saída\n",
        "compra_aprovada = saldo >= valor or cupom\n",
        "print(\"Compra aprovada?\", compra_aprovada)"
      ],
      "metadata": {
        "colab": {
          "base_uri": "https://localhost:8080/"
        },
        "id": "0R6ZR35f6NwD",
        "outputId": "d0cfc5d2-739e-4eae-ac07-4caf939167fb"
      },
      "execution_count": 10,
      "outputs": [
        {
          "output_type": "stream",
          "name": "stdout",
          "text": [
            "Digite seu saldo:100\n",
            "Digite o valor da compra: 120\n",
            "Tem cupom de desconto ativo? (s/n): s\n",
            "Compra aprovada? True\n"
          ]
        }
      ]
    },
    {
      "cell_type": "code",
      "source": [
        "#entrada\n",
        "numero = int(input(\"Digite um número: \"))\n",
        "\n",
        "#saída\n",
        "print(\"O número é positivo e par?\", numero > 0 and numero % 2 == 0)"
      ],
      "metadata": {
        "colab": {
          "base_uri": "https://localhost:8080/"
        },
        "id": "VW1Db9xc9hIb",
        "outputId": "274daa8c-0023-40cf-e74b-1def3119bcd1"
      },
      "execution_count": 12,
      "outputs": [
        {
          "output_type": "stream",
          "name": "stdout",
          "text": [
            "Digite um número: -2\n",
            "O número é positivo e par? False\n"
          ]
        }
      ]
    },
    {
      "cell_type": "code",
      "source": [
        "#entrada\n",
        "idade = int(input(\"Digite a idade: \"))\n",
        "\n",
        "#processamento\n",
        "adolescente = 13 <= idade <= 17\n",
        "\n",
        "#saída\n",
        "print(\"É adolescente?\", adolescente)"
      ],
      "metadata": {
        "colab": {
          "base_uri": "https://localhost:8080/"
        },
        "id": "TZG3uog4-HNS",
        "outputId": "427bbdc0-809a-4f59-8982-4ca51354017f"
      },
      "execution_count": 13,
      "outputs": [
        {
          "output_type": "stream",
          "name": "stdout",
          "text": [
            "Digite a idade: 10\n",
            "É adolescente? False\n"
          ]
        }
      ]
    },
    {
      "cell_type": "code",
      "source": [
        "#entrada\n",
        "senha = input(\"Digite a senha: \")\n",
        "admin = input(\"É administrador? (s/n): \") == \"s\"\n",
        "\n",
        "#saída\n",
        "print(\"Acesso permitido?\", senha == \"12345\" or admin)"
      ],
      "metadata": {
        "colab": {
          "base_uri": "https://localhost:8080/"
        },
        "id": "jY1gN_3D-c6Z",
        "outputId": "e519dddf-15f8-4027-8fd0-c62c9ec58e70"
      },
      "execution_count": 15,
      "outputs": [
        {
          "output_type": "stream",
          "name": "stdout",
          "text": [
            "Digite a senha: 1234\n",
            "É administrador? (s/n): s\n",
            "Acesso permitido? True\n"
          ]
        }
      ]
    },
    {
      "cell_type": "code",
      "source": [
        "#entrada\n",
        "presente = input(\"s/n: \") == \"s\"\n",
        "nota = int(input(\"nota: \")) >= 6\n",
        "\n",
        "#saída\n",
        "print(\"passou \", nota)"
      ],
      "metadata": {
        "colab": {
          "base_uri": "https://localhost:8080/"
        },
        "id": "HJ-3cPUN_EVl",
        "outputId": "bb938145-9e08-4016-be84-7a1c37137658"
      },
      "execution_count": 17,
      "outputs": [
        {
          "output_type": "stream",
          "name": "stdout",
          "text": [
            "s/n: s\n",
            "nota: 5\n",
            "passou  False\n"
          ]
        }
      ]
    },
    {
      "cell_type": "code",
      "source": [
        "#entrada\n",
        "vel = int(input(\"velocidade em km/h : \"))\n",
        "\n",
        "#processamento\n",
        "passou = vel > 80\n",
        "\n",
        "#saída\n",
        "print(\"multado?\", passou)"
      ],
      "metadata": {
        "colab": {
          "base_uri": "https://localhost:8080/"
        },
        "id": "kP3ic8aaBjKi",
        "outputId": "c935dda7-df2e-4926-c5bf-0199019831ca"
      },
      "execution_count": 32,
      "outputs": [
        {
          "output_type": "stream",
          "name": "stdout",
          "text": [
            "velocidade em km/h : 85\n",
            "multado? True\n"
          ]
        }
      ]
    },
    {
      "cell_type": "code",
      "source": [
        "#entrada\n",
        "idade = int(input(\"digite sua idade: \")) >=18\n",
        "convite = input(\"tem convite? (s/n): \") == \"s\"\n",
        "\n",
        "#saída\n",
        "print(\"pode entrar na festa? \", idade and convite )"
      ],
      "metadata": {
        "colab": {
          "base_uri": "https://localhost:8080/"
        },
        "id": "H6Is4nQ9CZPg",
        "outputId": "2c389d1c-edad-484d-f8dd-feef1b46e02d"
      },
      "execution_count": 33,
      "outputs": [
        {
          "output_type": "stream",
          "name": "stdout",
          "text": [
            "digite sua idade: 18\n",
            "tem convite? (s/n): s\n",
            "pode entrar na festa?  True\n"
          ]
        }
      ]
    }
  ]
}