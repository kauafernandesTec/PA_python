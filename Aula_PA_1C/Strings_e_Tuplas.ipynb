{
  "nbformat": 4,
  "nbformat_minor": 0,
  "metadata": {
    "colab": {
      "provenance": [],
      "authorship_tag": "ABX9TyOv7u0nrt50NHz0mS2UDOfH",
      "include_colab_link": true
    },
    "kernelspec": {
      "name": "python3",
      "display_name": "Python 3"
    },
    "language_info": {
      "name": "python"
    }
  },
  "cells": [
    {
      "cell_type": "markdown",
      "metadata": {
        "id": "view-in-github",
        "colab_type": "text"
      },
      "source": [
        "<a href=\"https://colab.research.google.com/github/kauafernandesTec/PA_python/blob/main/Aula_PA_1C/Strings_e_Tuplas.ipynb\" target=\"_parent\"><img src=\"https://colab.research.google.com/assets/colab-badge.svg\" alt=\"Open In Colab\"/></a>"
      ]
    },
    {
      "cell_type": "code",
      "execution_count": 2,
      "metadata": {
        "id": "uXkC-UTIYRe1"
      },
      "outputs": [],
      "source": [
        "# Exercício 1 - Inserir seus dados em variáveis\n",
        "nome = \"Kaua Fernandes\"\n",
        "turma = \"Manhã\"\n",
        "idade = 18\n",
        "cidade = \"São Paulo\""
      ]
    },
    {
      "cell_type": "code",
      "source": [
        "# Exercício 2 - Imprimir apenas o sobrenome usando slicing\n",
        "print(nome[5::])"
      ],
      "metadata": {
        "colab": {
          "base_uri": "https://localhost:8080/"
        },
        "id": "AkXpNPS9ZBjq",
        "outputId": "28ed75cf-42d1-4ce9-effa-ab58b04c9fa9"
      },
      "execution_count": 9,
      "outputs": [
        {
          "output_type": "stream",
          "name": "stdout",
          "text": [
            "Fernandes\n"
          ]
        }
      ]
    },
    {
      "cell_type": "code",
      "source": [
        "# Exercício 3 -  imprima seu nome de trás pra frente\n",
        "print(nome[::-1])"
      ],
      "metadata": {
        "colab": {
          "base_uri": "https://localhost:8080/"
        },
        "id": "qoOrIBn4a28T",
        "outputId": "2830d072-9b8a-4678-db11-76cd6b054b56"
      },
      "execution_count": 5,
      "outputs": [
        {
          "output_type": "stream",
          "name": "stdout",
          "text": [
            "sednanreF auaK\n"
          ]
        }
      ]
    },
    {
      "cell_type": "code",
      "source": [
        "# Exercício 4 - pegue a frase abaixo, aplique o split para fazer uma quebra toda vez que encontrar uma \",\"\n",
        "frase = \"Python é a linguagem ideal para o primeiro contato com programação, além da sua sintaxe simples e muito poderosa, Python tem diversas aplicações como: desenvolvimento web, análise de dados, inteligência artificial e automatização de tarefas, neste curso você aprenderá a lógica de programação para conquistar fluência na linguagem, a comunidade Python é a que mais cresce, assim como sua demanda de profissionais no mercado.\"\n",
        "print(frase.split(\",\"))"
      ],
      "metadata": {
        "colab": {
          "base_uri": "https://localhost:8080/"
        },
        "id": "VVMQFLtFbp19",
        "outputId": "eb860592-64d4-499e-ae4f-bcd9ca959f76"
      },
      "execution_count": 11,
      "outputs": [
        {
          "output_type": "stream",
          "name": "stdout",
          "text": [
            "['Python é a linguagem ideal para o primeiro contato com programação', ' além da sua sintaxe simples e muito poderosa', ' Python tem diversas aplicações como: desenvolvimento web', ' análise de dados', ' inteligência artificial e automatização de tarefas', ' neste curso você aprenderá a lógica de programação para conquistar fluência na linguagem', ' a comunidade Python é a que mais cresce', ' assim como sua demanda de profissionais no mercado.']\n"
          ]
        }
      ]
    },
    {
      "cell_type": "code",
      "source": [
        "# Exercício 5 -Imprima na tela os números de 1 a 10. Use uma lista para armazenar os números.\n",
        "numeros = list(range(1, 11))\n",
        "print(numeros)"
      ],
      "metadata": {
        "colab": {
          "base_uri": "https://localhost:8080/"
        },
        "id": "bmGRMhkgciMl",
        "outputId": "d7c74747-38d2-4ea3-af06-19aaf602b5a2"
      },
      "execution_count": 14,
      "outputs": [
        {
          "output_type": "stream",
          "name": "stdout",
          "text": [
            "[1, 2, 3, 4, 5, 6, 7, 8, 9, 10]\n"
          ]
        }
      ]
    },
    {
      "cell_type": "code",
      "source": [
        "# Exercício 6 - Crie uma lista de 5 objetos e imprima na tela\n",
        "objetos = [\"Caderno\", \"Caneta\", \"Celular\", \"Garrafa\", \"Mochila\"]\n",
        "print(objetos)"
      ],
      "metadata": {
        "id": "42Lo0iG7cnKw"
      },
      "execution_count": null,
      "outputs": []
    },
    {
      "cell_type": "code",
      "source": [
        "# Exercício 7 - - Crie duas strings e concatene as duas em uma terceira string\n",
        "a = \"Kauã \"\n",
        "b = \"Fernandes\"\n",
        "c = a + b\n",
        "print(c)"
      ],
      "metadata": {
        "colab": {
          "base_uri": "https://localhost:8080/"
        },
        "id": "UdnpROjtdQOF",
        "outputId": "904ce471-5e7b-497f-bdcc-60d45da56eaf"
      },
      "execution_count": 19,
      "outputs": [
        {
          "output_type": "stream",
          "name": "stdout",
          "text": [
            "Kauã Fernandes\n"
          ]
        }
      ]
    },
    {
      "cell_type": "code",
      "source": [
        "# Exercício 8 - Crie uma tupla com os seguintes elementos: 1, 2, 2, 3, 4, 4, 4, 5 e depois utilize a função count do\n",
        "# objeto tupla para verificar quantas vezes o número 4 aparece na tupla\n",
        "tupla = (1, 2, 2, 3, 4, 4, 4, 5)\n",
        "\n",
        "print(tupla.count(4))\n"
      ],
      "metadata": {
        "colab": {
          "base_uri": "https://localhost:8080/"
        },
        "id": "jFH65MmqdrEO",
        "outputId": "74063b53-5fb9-49fa-97bd-facf7f01552f"
      },
      "execution_count": 22,
      "outputs": [
        {
          "output_type": "stream",
          "name": "stdout",
          "text": [
            "3\n"
          ]
        }
      ]
    },
    {
      "cell_type": "code",
      "source": [
        "# Exercício 9 - Crie um dicionário vazio e imprima na tela\n",
        "dicionario = {\"nome\": \"Kaua\", \"idade\": 18, \"cidade\": \"São Paulo\"}\n",
        "print(dicionario)"
      ],
      "metadata": {
        "colab": {
          "base_uri": "https://localhost:8080/"
        },
        "id": "vHesN4wXjMun",
        "outputId": "cd59a5d1-b4a8-4654-e85b-e83cf601fc3b"
      },
      "execution_count": 23,
      "outputs": [
        {
          "output_type": "stream",
          "name": "stdout",
          "text": [
            "{'nome': 'Kaua', 'idade': 18, 'cidade': 'São Paulo'}\n"
          ]
        }
      ]
    },
    {
      "cell_type": "code",
      "source": [
        "# Exercício 10 - Criar dicionário com 3 chaves e 3 valores\n",
        "dicionario = {\n",
        "    \"nome\": \"Kaua\",\n",
        "    \"idade\": 18,\n",
        "    \"cidade\": \"São Paulo\"\n",
        "}\n",
        "print(dicionario)"
      ],
      "metadata": {
        "id": "UFOTeTqYqflb"
      },
      "execution_count": null,
      "outputs": []
    },
    {
      "cell_type": "code",
      "source": [
        "# Exercício 11 - Adicionar mais um elemento ao dicionário\n",
        "dicionario[\"profissão\"] = \"Estudante\"\n",
        "print(dicionario)"
      ],
      "metadata": {
        "id": "1btqqcv3qfu4"
      },
      "execution_count": null,
      "outputs": []
    },
    {
      "cell_type": "code",
      "source": [
        "# Exercício 12 - Dicionário com lista como um dos valores\n",
        "dicionario_lista = {\n",
        "    \"numeros\": [10, 20],\n",
        "    \"curso\": \"Python\",\n",
        "    \"ativo\": True\n",
        "}\n",
        "print(dicionario_lista)"
      ],
      "metadata": {
        "id": "MVo-fbPQqfyo"
      },
      "execution_count": null,
      "outputs": []
    },
    {
      "cell_type": "code",
      "source": [
        "# Exercício 13 - Lista com tipos diferentes\n",
        "lista_mista = [\n",
        "    \"Texto\",\n",
        "    (1, 2),\n",
        "    {\"chave1\": \"valor1\", \"chave2\": \"valor2\"},\n",
        "    9.99\n",
        "]\n",
        "print(lista_mista)"
      ],
      "metadata": {
        "id": "5mgJ5R9sqf1Z"
      },
      "execution_count": null,
      "outputs": []
    },
    {
      "cell_type": "code",
      "source": [
        "# Exercício 14 - Imprimir caracteres da posição 1 a 18\n",
        "frase = 'Cientista de Dados é o profissional mais legal do século XXI'\n",
        "print(frase[1:19])"
      ],
      "metadata": {
        "id": "cxKV9Z_OrDY3"
      },
      "execution_count": null,
      "outputs": []
    },
    {
      "cell_type": "code",
      "source": [
        "#MANIPULÇÃO DE STRINGS - # 1 - Usar len para imprimir o comprimento da string\n",
        "x = \"Hello World\"\n",
        "print(len(x))  # Resultado: 11\n"
      ],
      "metadata": {
        "id": "OcdpABHSrZ5J"
      },
      "execution_count": null,
      "outputs": []
    },
    {
      "cell_type": "code",
      "source": [
        "# 2 - Obter o primeiro caractere da string txt\n",
        "txt = \"Hello World\"\n",
        "x = txt[0]\n",
        "print(x)  # Resultado: H"
      ],
      "metadata": {
        "id": "_FV5YduWrkMW"
      },
      "execution_count": null,
      "outputs": []
    },
    {
      "cell_type": "code",
      "source": [
        "# 3 - Obter os caracteres do índice 2 ao índice 4\n",
        "txt = \"Hello World\"\n",
        "x = txt[2:5]\n",
        "print(x)  # Resultado: llo"
      ],
      "metadata": {
        "id": "EJblnN05rk8S"
      },
      "execution_count": null,
      "outputs": []
    },
    {
      "cell_type": "code",
      "source": [
        "# 4 - Converter o valor de txt para maiúsculas\n",
        "txt = \"Hello World\"\n",
        "txt = txt.upper()\n",
        "print(txt)  # Resultado: HELLO WORLD"
      ],
      "metadata": {
        "id": "_rq0i_jGrkxc"
      },
      "execution_count": null,
      "outputs": []
    },
    {
      "cell_type": "code",
      "source": [
        "# Contar quantas vezes aparece a palavra \"de\"\n",
        "txt = \"Eu gosto de vijar, tomar vinho, de estudar estudar programação, de estudar Pyhon\"\n",
        "print(txt.count(\"de\"))  # Conta as ocorrências da substring \"de\""
      ],
      "metadata": {
        "id": "mZBWeuTVrkp3"
      },
      "execution_count": null,
      "outputs": []
    },
    {
      "cell_type": "code",
      "source": [
        "# Separar a frase toda vez que encontrar uma vírgula\n",
        "txt = \"Eu gosto de vijar, tomar vinho, de estudar estudar programação, de estudar Pyhon\"\n",
        "print(txt.split(\",\"))"
      ],
      "metadata": {
        "colab": {
          "base_uri": "https://localhost:8080/"
        },
        "id": "nrs1L0mprvTq",
        "outputId": "06ed3943-b271-4de7-8d3b-9f1054ff8f57"
      },
      "execution_count": 24,
      "outputs": [
        {
          "output_type": "stream",
          "name": "stdout",
          "text": [
            "['Eu gosto de vijar', ' tomar vinho', ' de estudar estudar programação', ' de estudar Pyhon']\n"
          ]
        }
      ]
    }
  ]
}