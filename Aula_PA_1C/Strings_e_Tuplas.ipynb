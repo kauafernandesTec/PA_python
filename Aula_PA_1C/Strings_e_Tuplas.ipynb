{
  "nbformat": 4,
  "nbformat_minor": 0,
  "metadata": {
    "colab": {
      "provenance": [],
      "authorship_tag": "ABX9TyPKd4gfcf1SPnZWOQLunWrp",
      "include_colab_link": true
    },
    "kernelspec": {
      "name": "python3",
      "display_name": "Python 3"
    },
    "language_info": {
      "name": "python"
    }
  },
  "cells": [
    {
      "cell_type": "markdown",
      "metadata": {
        "id": "view-in-github",
        "colab_type": "text"
      },
      "source": [
        "<a href=\"https://colab.research.google.com/github/kauafernandesTec/PA_python/blob/main/Aula_PA_1C/Strings_e_Tuplas.ipynb\" target=\"_parent\"><img src=\"https://colab.research.google.com/assets/colab-badge.svg\" alt=\"Open In Colab\"/></a>"
      ]
    },
    {
      "cell_type": "code",
      "execution_count": 2,
      "metadata": {
        "id": "uXkC-UTIYRe1"
      },
      "outputs": [],
      "source": [
        "# Exercício 1 - Inserir seus dados em variáveis\n",
        "nome = \"Kaua Fernandes\"\n",
        "turma = \"Manhã\"\n",
        "idade = 18\n",
        "cidade = \"São Paulo\""
      ]
    },
    {
      "cell_type": "code",
      "source": [
        "# Exercício 2 - Imprimir apenas o sobrenome usando slicing\n",
        "print(nome[5::])"
      ],
      "metadata": {
        "colab": {
          "base_uri": "https://localhost:8080/"
        },
        "id": "AkXpNPS9ZBjq",
        "outputId": "28ed75cf-42d1-4ce9-effa-ab58b04c9fa9"
      },
      "execution_count": 9,
      "outputs": [
        {
          "output_type": "stream",
          "name": "stdout",
          "text": [
            "Fernandes\n"
          ]
        }
      ]
    },
    {
      "cell_type": "code",
      "source": [
        "# Exercício 3 -  imprima seu nome de trás pra frente\n",
        "print(nome[::-1])"
      ],
      "metadata": {
        "colab": {
          "base_uri": "https://localhost:8080/"
        },
        "id": "qoOrIBn4a28T",
        "outputId": "2830d072-9b8a-4678-db11-76cd6b054b56"
      },
      "execution_count": 5,
      "outputs": [
        {
          "output_type": "stream",
          "name": "stdout",
          "text": [
            "sednanreF auaK\n"
          ]
        }
      ]
    },
    {
      "cell_type": "code",
      "source": [
        "# Exercício 4 - pegue a frase abaixo, aplique o split para fazer uma quebra toda vez que encontrar uma \",\"\n",
        "frase = \"Python é a linguagem ideal para o primeiro contato com programação, além da sua sintaxe simples e muito poderosa, Python tem diversas aplicações como: desenvolvimento web, análise de dados, inteligência artificial e automatização de tarefas, neste curso você aprenderá a lógica de programação para conquistar fluência na linguagem, a comunidade Python é a que mais cresce, assim como sua demanda de profissionais no mercado.\"\n",
        "print(frase.split(\",\"))"
      ],
      "metadata": {
        "colab": {
          "base_uri": "https://localhost:8080/"
        },
        "id": "VVMQFLtFbp19",
        "outputId": "eb860592-64d4-499e-ae4f-bcd9ca959f76"
      },
      "execution_count": 11,
      "outputs": [
        {
          "output_type": "stream",
          "name": "stdout",
          "text": [
            "['Python é a linguagem ideal para o primeiro contato com programação', ' além da sua sintaxe simples e muito poderosa', ' Python tem diversas aplicações como: desenvolvimento web', ' análise de dados', ' inteligência artificial e automatização de tarefas', ' neste curso você aprenderá a lógica de programação para conquistar fluência na linguagem', ' a comunidade Python é a que mais cresce', ' assim como sua demanda de profissionais no mercado.']\n"
          ]
        }
      ]
    },
    {
      "cell_type": "code",
      "source": [
        "# Exercício 5 -Imprima na tela os números de 1 a 10. Use uma lista para armazenar os números.\n",
        "numeros = list(range(1, 11))\n",
        "print(numeros)"
      ],
      "metadata": {
        "colab": {
          "base_uri": "https://localhost:8080/"
        },
        "id": "bmGRMhkgciMl",
        "outputId": "d7c74747-38d2-4ea3-af06-19aaf602b5a2"
      },
      "execution_count": 14,
      "outputs": [
        {
          "output_type": "stream",
          "name": "stdout",
          "text": [
            "[1, 2, 3, 4, 5, 6, 7, 8, 9, 10]\n"
          ]
        }
      ]
    },
    {
      "cell_type": "code",
      "source": [
        "# Exercício 6 - Crie uma lista de 5 objetos e imprima na tela\n",
        "objetos = [\"Caderno\", \"Caneta\", \"Celular\", \"Garrafa\", \"Mochila\"]\n",
        "print(objetos)"
      ],
      "metadata": {
        "id": "42Lo0iG7cnKw"
      },
      "execution_count": null,
      "outputs": []
    },
    {
      "cell_type": "code",
      "source": [
        "# Exercício 7 - - Crie duas strings e concatene as duas em uma terceira string\n",
        "a = \"Kauã \"\n",
        "b = \"Fernandes\"\n",
        "c = a + b\n",
        "print(c)"
      ],
      "metadata": {
        "colab": {
          "base_uri": "https://localhost:8080/"
        },
        "id": "UdnpROjtdQOF",
        "outputId": "904ce471-5e7b-497f-bdcc-60d45da56eaf"
      },
      "execution_count": 19,
      "outputs": [
        {
          "output_type": "stream",
          "name": "stdout",
          "text": [
            "Kauã Fernandes\n"
          ]
        }
      ]
    },
    {
      "cell_type": "code",
      "source": [
        "# Exercício 8 - Crie uma tupla com os seguintes elementos: 1, 2, 2, 3, 4, 4, 4, 5 e depois utilize a função count do\n",
        "# objeto tupla para verificar quantas vezes o número 4 aparece na tupla\n",
        "tupla = (1, 2, 2, 3, 4, 4, 4, 5)\n",
        "\n",
        "print(tupla.count(4))\n"
      ],
      "metadata": {
        "colab": {
          "base_uri": "https://localhost:8080/"
        },
        "id": "jFH65MmqdrEO",
        "outputId": "74063b53-5fb9-49fa-97bd-facf7f01552f"
      },
      "execution_count": 22,
      "outputs": [
        {
          "output_type": "stream",
          "name": "stdout",
          "text": [
            "3\n"
          ]
        }
      ]
    },
    {
      "cell_type": "code",
      "source": [
        "# Exercício 9 - Crie um dicionário vazio e imprima na tela\n",
        "dicionario = {\"nome\": \"Kaua\", \"idade\": 18, \"cidade\": \"São Paulo\"}\n",
        "print(dicionario)"
      ],
      "metadata": {
        "colab": {
          "base_uri": "https://localhost:8080/"
        },
        "id": "vHesN4wXjMun",
        "outputId": "cd59a5d1-b4a8-4654-e85b-e83cf601fc3b"
      },
      "execution_count": 23,
      "outputs": [
        {
          "output_type": "stream",
          "name": "stdout",
          "text": [
            "{'nome': 'Kaua', 'idade': 18, 'cidade': 'São Paulo'}\n"
          ]
        }
      ]
    },
    {
      "cell_type": "code",
      "source": [
        "# Exercício 10 - Criar dicionário com 3 chaves e 3 valores\n",
        "dicionario = {\n",
        "    \"nome\": \"Kaua\",\n",
        "    \"idade\": 18,\n",
        "    \"cidade\": \"São Paulo\"\n",
        "}\n",
        "print(dicionario)"
      ],
      "metadata": {
        "colab": {
          "base_uri": "https://localhost:8080/"
        },
        "id": "UFOTeTqYqflb",
        "outputId": "69687c9a-3b4a-43f5-8a14-bc6917d72d68"
      },
      "execution_count": 30,
      "outputs": [
        {
          "output_type": "stream",
          "name": "stdout",
          "text": [
            "{'nome': 'Kaua', 'idade': 18, 'cidade': 'São Paulo'}\n"
          ]
        }
      ]
    },
    {
      "cell_type": "code",
      "source": [
        "# Exercício 11 - Adicionar mais um elemento ao dicionário\n",
        "dicionario[\"profissão\"] = \"Estudante\"\n",
        "print(dicionario)"
      ],
      "metadata": {
        "colab": {
          "base_uri": "https://localhost:8080/"
        },
        "id": "1btqqcv3qfu4",
        "outputId": "9a1986e5-fa0d-49de-adfd-fc195fafb310"
      },
      "execution_count": 31,
      "outputs": [
        {
          "output_type": "stream",
          "name": "stdout",
          "text": [
            "{'nome': 'Kaua', 'idade': 18, 'cidade': 'São Paulo', 'profissão': 'Estudante'}\n"
          ]
        }
      ]
    },
    {
      "cell_type": "code",
      "source": [
        "# Exercício 12 - Dicionário com lista como um dos valores\n",
        "dicionario_lista = {\n",
        "    \"numeros\": [10, 20],\n",
        "    \"curso\": \"Python\",\n",
        "    \"ativo\": True\n",
        "}\n",
        "print(dicionario_lista)"
      ],
      "metadata": {
        "colab": {
          "base_uri": "https://localhost:8080/"
        },
        "id": "MVo-fbPQqfyo",
        "outputId": "83e526db-e1ef-4b29-a4c9-e0b5bb244947"
      },
      "execution_count": 32,
      "outputs": [
        {
          "output_type": "stream",
          "name": "stdout",
          "text": [
            "{'numeros': [10, 20], 'curso': 'Python', 'ativo': True}\n"
          ]
        }
      ]
    },
    {
      "cell_type": "code",
      "source": [
        "# Exercício 13 - Lista com tipos diferentes\n",
        "lista_mista = [\n",
        "    \"Texto\",\n",
        "    (1, 2),\n",
        "    {\"chave1\": \"valor1\", \"chave2\": \"valor2\"},\n",
        "    9.99\n",
        "]\n",
        "print(lista_mista)"
      ],
      "metadata": {
        "colab": {
          "base_uri": "https://localhost:8080/"
        },
        "id": "5mgJ5R9sqf1Z",
        "outputId": "f0d10658-d010-4893-e852-fa6a40ed610f"
      },
      "execution_count": 33,
      "outputs": [
        {
          "output_type": "stream",
          "name": "stdout",
          "text": [
            "['Texto', (1, 2), {'chave1': 'valor1', 'chave2': 'valor2'}, 9.99]\n"
          ]
        }
      ]
    },
    {
      "cell_type": "code",
      "source": [
        "# Exercício 14 - Imprimir caracteres da posição 1 a 18\n",
        "frase = 'Cientista de Dados é o profissional mais legal do século XXI'\n",
        "print(frase[1:19])"
      ],
      "metadata": {
        "colab": {
          "base_uri": "https://localhost:8080/"
        },
        "id": "cxKV9Z_OrDY3",
        "outputId": "a8acb205-6ffa-4e2a-cfa6-40e1865923b3"
      },
      "execution_count": 34,
      "outputs": [
        {
          "output_type": "stream",
          "name": "stdout",
          "text": [
            "ientista de Dados \n"
          ]
        }
      ]
    },
    {
      "cell_type": "code",
      "source": [
        "#MANIPULÇÃO DE STRINGS - # 1 - Usar len para imprimir o comprimento da string\n",
        "x = \"Hello World\"\n",
        "print(len(x))\n"
      ],
      "metadata": {
        "colab": {
          "base_uri": "https://localhost:8080/"
        },
        "id": "OcdpABHSrZ5J",
        "outputId": "6fc704bb-cc81-47c2-ea74-aab6a3a9770e"
      },
      "execution_count": 35,
      "outputs": [
        {
          "output_type": "stream",
          "name": "stdout",
          "text": [
            "11\n"
          ]
        }
      ]
    },
    {
      "cell_type": "code",
      "source": [
        "# 2 - Obter o primeiro caractere da string txt\n",
        "txt = \"Hello World\"\n",
        "x = txt[0]\n",
        "print(x)"
      ],
      "metadata": {
        "colab": {
          "base_uri": "https://localhost:8080/"
        },
        "id": "_FV5YduWrkMW",
        "outputId": "734f1d97-59b2-4764-df81-72a11b4c0b37"
      },
      "execution_count": 36,
      "outputs": [
        {
          "output_type": "stream",
          "name": "stdout",
          "text": [
            "H\n"
          ]
        }
      ]
    },
    {
      "cell_type": "code",
      "source": [
        "# 3 - Obter os caracteres do índice 2 ao índice 4\n",
        "txt = \"Hello World\"\n",
        "x = txt[2:5]\n",
        "print(x)"
      ],
      "metadata": {
        "colab": {
          "base_uri": "https://localhost:8080/"
        },
        "id": "EJblnN05rk8S",
        "outputId": "c4386857-9f29-4db9-8b2e-be50dca06201"
      },
      "execution_count": 26,
      "outputs": [
        {
          "output_type": "stream",
          "name": "stdout",
          "text": [
            "llo\n"
          ]
        }
      ]
    },
    {
      "cell_type": "code",
      "source": [
        "# 4 - Converter o valor de txt para maiúsculas\n",
        "txt = \"Hello World\"\n",
        "txt = txt.upper()\n",
        "print(txt)"
      ],
      "metadata": {
        "colab": {
          "base_uri": "https://localhost:8080/"
        },
        "id": "_rq0i_jGrkxc",
        "outputId": "9ccf1282-1bfa-4b39-836e-54afe821b68e"
      },
      "execution_count": 25,
      "outputs": [
        {
          "output_type": "stream",
          "name": "stdout",
          "text": [
            "HELLO WORLD\n"
          ]
        }
      ]
    },
    {
      "cell_type": "code",
      "source": [
        "# Contar quantas vezes aparece a palavra \"de\"\n",
        "txt = \"Eu gosto de vijar, tomar vinho, de estudar estudar programação, de estudar Pyhon\"\n",
        "print(txt.count(\"de\"))"
      ],
      "metadata": {
        "colab": {
          "base_uri": "https://localhost:8080/"
        },
        "id": "mZBWeuTVrkp3",
        "outputId": "38d652ee-ba6d-4437-ef16-4222784fabae"
      },
      "execution_count": 37,
      "outputs": [
        {
          "output_type": "stream",
          "name": "stdout",
          "text": [
            "3\n"
          ]
        }
      ]
    },
    {
      "cell_type": "code",
      "source": [
        "# Separar a frase toda vez que encontrar uma vírgula\n",
        "txt = \"Eu gosto de vijar, tomar vinho, de estudar estudar programação, de estudar Pyhon\"\n",
        "print(txt.split(\",\"))"
      ],
      "metadata": {
        "colab": {
          "base_uri": "https://localhost:8080/"
        },
        "id": "nrs1L0mprvTq",
        "outputId": "06ed3943-b271-4de7-8d3b-9f1054ff8f57"
      },
      "execution_count": 24,
      "outputs": [
        {
          "output_type": "stream",
          "name": "stdout",
          "text": [
            "['Eu gosto de vijar', ' tomar vinho', ' de estudar estudar programação', ' de estudar Pyhon']\n"
          ]
        }
      ]
    }
  ]
}