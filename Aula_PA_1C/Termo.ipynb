{
  "nbformat": 4,
  "nbformat_minor": 0,
  "metadata": {
    "colab": {
      "provenance": [],
      "include_colab_link": true
    },
    "kernelspec": {
      "name": "python3",
      "display_name": "Python 3"
    },
    "language_info": {
      "name": "python"
    }
  },
  "cells": [
    {
      "cell_type": "markdown",
      "metadata": {
        "id": "view-in-github",
        "colab_type": "text"
      },
      "source": [
        "<a href=\"https://colab.research.google.com/github/kauafernandesTec/PA_python/blob/main/Termo.ipynb\" target=\"_parent\"><img src=\"https://colab.research.google.com/assets/colab-badge.svg\" alt=\"Open In Colab\"/></a>"
      ]
    },
    {
      "cell_type": "code",
      "execution_count": null,
      "metadata": {
        "colab": {
          "base_uri": "https://localhost:8080/"
        },
        "id": "vST6uGkAvYCI",
        "outputId": "16b5f1bd-0db1-42fa-df0e-ee62fe44cb2b"
      },
      "outputs": [
        {
          "output_type": "stream",
          "name": "stdout",
          "text": [
            "Jogo do Termo - Tente adivinhar a palavra de 5 letras.\n",
            "Você tem 6 tentativas.\n",
            "\n",
            "Digite uma palavra de 5 letras: arroz\n",
            "(a) _ [r] (o) _\n",
            "voce ainda tem  5 tentativas.\n",
            "\n",
            "Digite uma palavra de 5 letras: claro\n",
            "_ (l) (a) (r) [o]\n",
            "voce ainda tem  4 tentativas.\n",
            "\n",
            "Digite uma palavra de 5 letras: largo\n",
            "Parabéns!\n",
            "Você acertou a palavra: largo\n"
          ]
        }
      ],
      "source": [
        "import random\n",
        "\n",
        "palavras = [\"bravo\", \"fundo\", \"claro\", \"quase\", \"andar\", \"cheio\", \"falso\", \"pista\", \"canto\", \"largo\"]\n",
        "\n",
        "\n",
        "\n",
        "jogo = random.randint(0, len(palavras) - 1)\n",
        "palavra = palavras[jogo]\n",
        "\n",
        "tentativas = 6\n",
        "tamanho = len(palavra)\n",
        "\n",
        "print(\"Jogo do Termo - Tente adivinhar a palavra de 5 letras.\")\n",
        "print(\"Você tem\", tentativas, \"tentativas.\\n\")\n",
        "\n",
        "while tentativas > 0:\n",
        "    adivinha = input(\"Digite uma palavra de 5 letras: \")\n",
        "\n",
        "    if len(adivinha) != tamanho:\n",
        "        print(\"Erro: a palavra deve ter exatamente\", tamanho, \"letras.\")\n",
        "        continue\n",
        "\n",
        "    adivinha = adivinha.lower()\n",
        "\n",
        "    if adivinha == palavra:\n",
        "        print(\"Parabéns!\")\n",
        "        print(\"Você acertou a palavra:\", palavra)\n",
        "        break\n",
        "\n",
        "    resultado = []\n",
        "    usado = []\n",
        "    for i in range(tamanho):\n",
        "        usado.append(False)\n",
        "\n",
        "\n",
        "    for i in range(tamanho):\n",
        "        if adivinha[i] == palavra[i]:\n",
        "            resultado.append(\"[\" + adivinha [i] + \"]\")\n",
        "            usado[i] = True\n",
        "        else:\n",
        "            resultado.append(\"_\")\n",
        "\n",
        "\n",
        "    for i in range(tamanho):\n",
        "        if resultado[i] == \"_\":\n",
        "            letra = adivinha[i]\n",
        "            achou = False\n",
        "            for j in range(tamanho):\n",
        "                if usado[j] == False and palavra[j] == letra:\n",
        "                    achou = True\n",
        "                    usado[j] = True\n",
        "                    break\n",
        "            if achou:\n",
        "                resultado[i] = \"(\" + letra + \")\"\n",
        "            else:\n",
        "                resultado[i] = \"_\"\n",
        "\n",
        "    print(\" \".join(resultado))\n",
        "\n",
        "    tentativas = tentativas - 1\n",
        "    print(\"voce ainda tem \", tentativas, \"tentativas.\\n\")\n",
        "\n",
        "if tentativas == 0:\n",
        "    print(\"acertou!\")\n",
        "    print(\"acabou as tentativas. A palavra era:\", palavra)\n"
      ]
    }
  ]
}
