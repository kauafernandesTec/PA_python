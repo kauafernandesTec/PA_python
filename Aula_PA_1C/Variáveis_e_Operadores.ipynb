{
  "nbformat": 4,
  "nbformat_minor": 0,
  "metadata": {
    "colab": {
      "provenance": [],
      "authorship_tag": "ABX9TyOUHMyD/JiimF/jmhQzv13l",
      "include_colab_link": true
    },
    "kernelspec": {
      "name": "python3",
      "display_name": "Python 3"
    },
    "language_info": {
      "name": "python"
    }
  },
  "cells": [
    {
      "cell_type": "markdown",
      "metadata": {
        "id": "view-in-github",
        "colab_type": "text"
      },
      "source": [
        "<a href=\"https://colab.research.google.com/github/kauafernandesTec/PA_python/blob/main/Aula_PA_1C/Vari%C3%A1veis_e_Operadores.ipynb\" target=\"_parent\"><img src=\"https://colab.research.google.com/assets/colab-badge.svg\" alt=\"Open In Colab\"/></a>"
      ]
    },
    {
      "cell_type": "code",
      "execution_count": 23,
      "metadata": {
        "colab": {
          "base_uri": "https://localhost:8080/"
        },
        "id": "WIESwoULVE0B",
        "outputId": "56da688c-2c79-4a15-e485-2e205c928043"
      },
      "outputs": [
        {
          "output_type": "stream",
          "name": "stdout",
          "text": [
            "nota prova1 7\n",
            "nota prova2 4\n",
            "a média de notas é igual a 5.5\n"
          ]
        }
      ],
      "source": [
        "#calcular média da P1 e da P2\n",
        "\n",
        "##entrada\n",
        "P1 = float(input('nota prova1 '))\n",
        "P2 = float(input('nota prova2 '))\n",
        "\n",
        "##processamento\n",
        "soma = (P1 + P2)/2\n",
        "\n",
        "##saída\n",
        "print ('a média de notas é igual a',soma)"
      ]
    },
    {
      "cell_type": "code",
      "source": [
        "#converter celsius para fahrenheit\n",
        "\n",
        "##entrada\n",
        "celsius = float(input('celsius '))\n",
        "\n",
        "##processamento\n",
        "soma = celsius * 1.8 + 32\n",
        "\n",
        "##saída\n",
        "print ('a soma em fahrenheit é',soma)"
      ],
      "metadata": {
        "colab": {
          "base_uri": "https://localhost:8080/"
        },
        "id": "LbBQPRQ7azcx",
        "outputId": "11c50ed4-9a86-408e-c097-870927b66cab"
      },
      "execution_count": 19,
      "outputs": [
        {
          "output_type": "stream",
          "name": "stdout",
          "text": [
            "celsius 25\n",
            "a soma em fahrenheit é 77.0\n"
          ]
        }
      ]
    },
    {
      "cell_type": "code",
      "source": [
        "#converter fahrenheit para celsius\n",
        "\n",
        "##entrada\n",
        "fahrenheit = float(input('fahrenheit '))\n",
        "\n",
        "##processamento\n",
        "soma = (fahrenheit - 32)/1.8\n",
        "\n",
        "##saída\n",
        "print ('a soma em celsius é',soma)"
      ],
      "metadata": {
        "colab": {
          "base_uri": "https://localhost:8080/"
        },
        "id": "tjJFfqyVdwlm",
        "outputId": "fbdaaa9d-01b4-4539-b8c7-1d9b6c5b654a"
      },
      "execution_count": 22,
      "outputs": [
        {
          "output_type": "stream",
          "name": "stdout",
          "text": [
            "fahrenheit 77\n",
            "a soma em celsius é 25.0\n"
          ]
        }
      ]
    },
    {
      "cell_type": "code",
      "source": [
        "#calcular valor de um produto\n",
        "\n",
        "##entrada\n",
        "valor = float(input('valor do produto '))\n",
        "QTDE = float(input('quantidade do produto '))\n",
        "\n",
        "##processamento\n",
        "VT = QTDE * valor\n",
        "\n",
        "##saída\n",
        "print ('o valor total será igual á',VT)"
      ],
      "metadata": {
        "colab": {
          "base_uri": "https://localhost:8080/"
        },
        "id": "p3cHXnC8kRSQ",
        "outputId": "bc47254e-f6c6-4155-f899-28571705e92f"
      },
      "execution_count": 26,
      "outputs": [
        {
          "output_type": "stream",
          "name": "stdout",
          "text": [
            "valor do produto 5.50\n",
            "quantidade do produto 3\n",
            "o valor total será igual á 16.5\n"
          ]
        }
      ]
    }
  ]
}